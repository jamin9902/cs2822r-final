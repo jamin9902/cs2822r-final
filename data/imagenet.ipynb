{
 "cells": [
  {
   "cell_type": "code",
   "execution_count": null,
   "metadata": {},
   "outputs": [],
   "source": [
    "pip install --upgrade pip"
   ]
  },
  {
   "cell_type": "code",
   "execution_count": null,
   "metadata": {},
   "outputs": [],
   "source": [
    "pip install Pillow"
   ]
  },
  {
   "cell_type": "code",
   "execution_count": null,
   "metadata": {},
   "outputs": [],
   "source": [
    "pip install ipywidgets"
   ]
  },
  {
   "cell_type": "code",
   "execution_count": null,
   "metadata": {},
   "outputs": [],
   "source": [
    "pip install datasets"
   ]
  },
  {
   "cell_type": "code",
   "execution_count": null,
   "metadata": {},
   "outputs": [],
   "source": [
    "pip install datasets[vision]"
   ]
  },
  {
   "cell_type": "code",
   "execution_count": null,
   "metadata": {},
   "outputs": [],
   "source": [
    "# Accessing ImageNet from https://huggingface.co/datasets/ILSVRC/imagenet-1k"
   ]
  },
  {
   "cell_type": "code",
   "execution_count": 27,
   "metadata": {},
   "outputs": [],
   "source": [
    "# pip uninstall huggingface_hub datasets"
   ]
  },
  {
   "cell_type": "code",
   "execution_count": 28,
   "metadata": {},
   "outputs": [],
   "source": [
    "# pip install huggingface_hub datasets"
   ]
  },
  {
   "cell_type": "code",
   "execution_count": 9,
   "metadata": {},
   "outputs": [
    {
     "data": {
      "application/vnd.jupyter.widget-view+json": {
       "model_id": "079a8f44f020473b9fec655ad35b21ba",
       "version_major": 2,
       "version_minor": 0
      },
      "text/plain": [
       "VBox(children=(HTML(value='<center> <img\\nsrc=https://huggingface.co/front/assets/huggingface_logo-noborder.sv…"
      ]
     },
     "metadata": {},
     "output_type": "display_data"
    }
   ],
   "source": [
    "# Login with Hugging face credentials (need to configure with access token)\n",
    "from huggingface_hub import notebook_login\n",
    "notebook_login()"
   ]
  },
  {
   "cell_type": "code",
   "execution_count": 1,
   "metadata": {},
   "outputs": [],
   "source": [
    "from datasets import load_dataset\n",
    "\n",
    "# Load the dataset\n",
    "\n",
    "# Stream the dataset instead of downloading the whole thing\n",
    "ds = load_dataset(\"imagenet-1k\", streaming=True)"
   ]
  },
  {
   "cell_type": "markdown",
   "metadata": {},
   "source": [
    "# Code below is the intial code to extract the images and print the labels as is, no perturbations."
   ]
  },
  {
   "cell_type": "code",
   "execution_count": 3,
   "metadata": {},
   "outputs": [
    {
     "name": "stdout",
     "output_type": "stream",
     "text": [
      "Label: 726\n",
      "Label: 917\n",
      "Label: 13\n",
      "Label: 939\n",
      "Label: 6\n"
     ]
    }
   ],
   "source": [
    "# train_ds = ds['train']\n",
    "# train_ds_iter = iter(train_ds)\n",
    "\n",
    "# # Function to display a few images and their labels\n",
    "# def preview_images(ds_iter, num_samples=5):\n",
    "#     for _ in range(num_samples):\n",
    "#         # Get the next sample\n",
    "#         sample = next(ds_iter)\n",
    "        \n",
    "#         # Extract the image and label\n",
    "#         img = sample['image']  # This is already a PIL image\n",
    "#         label = sample['label']\n",
    "        \n",
    "#         # Display the image\n",
    "#         img.show()  # This will open the image in the default image viewer\n",
    "        \n",
    "#         # Print the label\n",
    "#         print(f\"Label: {label}\")\n",
    "\n",
    "# # Preview the first 5 images and their labels\n",
    "# preview_images(train_ds_iter, num_samples=5)"
   ]
  },
  {
   "cell_type": "markdown",
   "metadata": {},
   "source": [
    "# Code below hosts three functions, then prints the resulting images plus the perturbations for 5 images"
   ]
  },
  {
   "cell_type": "code",
   "execution_count": 4,
   "metadata": {},
   "outputs": [
    {
     "name": "stdout",
     "output_type": "stream",
     "text": [
      "Original Label: 726\n",
      "Noisy Image:\n",
      "Occluded Image:\n",
      "Reduced Resolution Image:\n",
      "Original Label: 917\n",
      "Noisy Image:\n",
      "Occluded Image:\n",
      "Reduced Resolution Image:\n",
      "Original Label: 13\n",
      "Noisy Image:\n",
      "Occluded Image:\n",
      "Reduced Resolution Image:\n",
      "Original Label: 939\n",
      "Noisy Image:\n",
      "Occluded Image:\n",
      "Reduced Resolution Image:\n",
      "Original Label: 6\n",
      "Noisy Image:\n",
      "Occluded Image:\n",
      "Reduced Resolution Image:\n"
     ]
    }
   ],
   "source": [
    "import numpy as np\n",
    "from PIL import Image, ImageOps\n",
    "import random\n",
    "\n",
    "# 1. Noise Injection\n",
    "def noise_injection(image, distribution='gaussian', mean=0, stddev=25):\n",
    "    \"\"\"Inject noise into the image.\"\"\"\n",
    "    img_array = np.array(image)\n",
    "\n",
    "    # Gaussian noise\n",
    "    if distribution == 'gaussian':\n",
    "        noise = np.random.normal(mean, stddev, img_array.shape)\n",
    "    \n",
    "    # Uniform noise\n",
    "    elif distribution == 'uniform':\n",
    "        noise = np.random.uniform(-stddev, stddev, img_array.shape)\n",
    "    \n",
    "    else:\n",
    "        raise ValueError(\"Supported distributions: 'gaussian', 'uniform'\")\n",
    "\n",
    "    # Add the noise and clip values to be in valid range\n",
    "    noisy_image = img_array + noise\n",
    "    noisy_image = np.clip(noisy_image, 0, 255).astype(np.uint8)\n",
    "    \n",
    "    return Image.fromarray(noisy_image)\n",
    "\n",
    "# 2. Occlusion\n",
    "def occlusion(image, percentage=0.2):\n",
    "    \"\"\"Zero out (black out) a portion of the image based on percentage.\"\"\"\n",
    "    img_array = np.array(image)\n",
    "    height, width, _ = img_array.shape\n",
    "    \n",
    "    # Compute the occlusion dimensions\n",
    "    occ_height = int(height * percentage)\n",
    "    occ_width = int(width * percentage)\n",
    "    \n",
    "    # Randomly select the top-left corner of the occlusion\n",
    "    top_left_x = random.randint(0, width - occ_width)\n",
    "    top_left_y = random.randint(0, height - occ_height)\n",
    "    \n",
    "    # Apply occlusion (set to zero in the specified region)\n",
    "    img_array[top_left_y:top_left_y + occ_height, top_left_x:top_left_x + occ_width] = 0\n",
    "    \n",
    "    return Image.fromarray(img_array)\n",
    "\n",
    "# 3. Resolution Reduction\n",
    "def resolution_reduction(image, block_size=2):\n",
    "    \"\"\"Reduce resolution by partitioning image into squares and averaging.\"\"\"\n",
    "    img_array = np.array(image)\n",
    "    height, width, _ = img_array.shape\n",
    "    \n",
    "    # Downsample by block_size and take the mean of the blocks\n",
    "    reduced_img_array = img_array.copy()\n",
    "    \n",
    "    for i in range(0, height, block_size):\n",
    "        for j in range(0, width, block_size):\n",
    "            # Define the block\n",
    "            block = img_array[i:i+block_size, j:j+block_size]\n",
    "            # Compute the average of the block\n",
    "            avg_color = block.mean(axis=(0, 1)).astype(int)\n",
    "            # Apply the average to the entire block\n",
    "            reduced_img_array[i:i+block_size, j:j+block_size] = avg_color\n",
    "    \n",
    "    return Image.fromarray(reduced_img_array)\n",
    "\n",
    "# Function to test the perturbations on 5 images\n",
    "def test_perturbations(ds_iter, num_samples=5):\n",
    "    for _ in range(num_samples):\n",
    "        # Get the next sample\n",
    "        sample = next(ds_iter)\n",
    "        \n",
    "        # Extract the image and label\n",
    "        img = sample['image']  # PIL image\n",
    "        label = sample['label']\n",
    "        \n",
    "        # Apply perturbations\n",
    "        noisy_image = noise_injection(img, distribution='gaussian', mean=0, stddev=25)\n",
    "        occluded_image = occlusion(img, percentage=0.2)\n",
    "        reduced_resolution_image = resolution_reduction(img, block_size=2)\n",
    "        \n",
    "        # Display the original and the perturbed images\n",
    "        print(f\"Original Label: {label}\")\n",
    "        img.show(title=\"Original Image\")\n",
    "        \n",
    "        print(\"Noisy Image:\")\n",
    "        noisy_image.show(title=\"Noisy Image\")\n",
    "        \n",
    "        print(\"Occluded Image:\")\n",
    "        occluded_image.show(title=\"Occluded Image\")\n",
    "        \n",
    "        print(\"Reduced Resolution Image:\")\n",
    "        reduced_resolution_image.show(title=\"Reduced Resolution Image\")\n",
    "\n",
    "# Stream the dataset\n",
    "ds = load_dataset(\"imagenet-1k\", streaming=True)\n",
    "train_ds = ds['train']\n",
    "\n",
    "# Initialize iterator for the 'train' split\n",
    "train_ds_iter = iter(train_ds)\n",
    "\n",
    "# Test the perturbations on 5 images\n",
    "test_perturbations(train_ds_iter, num_samples=5)\n"
   ]
  }
 ],
 "metadata": {
  "kernelspec": {
   "display_name": "base",
   "language": "python",
   "name": "python3"
  },
  "language_info": {
   "codemirror_mode": {
    "name": "ipython",
    "version": 3
   },
   "file_extension": ".py",
   "mimetype": "text/x-python",
   "name": "python",
   "nbconvert_exporter": "python",
   "pygments_lexer": "ipython3",
   "version": "3.12.2"
  }
 },
 "nbformat": 4,
 "nbformat_minor": 2
}
